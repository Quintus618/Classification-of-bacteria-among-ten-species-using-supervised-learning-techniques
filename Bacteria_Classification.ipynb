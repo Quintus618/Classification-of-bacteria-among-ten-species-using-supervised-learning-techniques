{
 "cells": [
  {
   "cell_type": "code",
   "execution_count": 2,
   "id": "6d425c6e",
   "metadata": {},
   "outputs": [],
   "source": [
    "# Machine Learning Importation\n",
    "import pandas as pd\n",
    "import numpy as np\n",
    "import matplotlib as plt\n",
    "\n",
    "from sklearn.model_selection import train_test_split\n",
    "from sklearn import metrics\n",
    "from sklearn.metrics import confusion_matrix\n",
    "from sklearn.metrics import accuracy_score\n",
    "from sklearn.multiclass import OneVsRestClassifier\n",
    "from sklearn.multiclass import OneVsOneClassifier\n",
    "from sklearn.preprocessing import StandardScaler\n",
    "\n",
    "# Models importation\n",
    "from sklearn.neighbors import KNeighborsClassifier\n",
    "from sklearn.tree import DecisionTreeClassifier\n",
    "from sklearn.ensemble import RandomForestClassifier\n",
    "from sklearn.neural_network import MLPClassifier\n",
    "from sklearn.svm import SVC\n",
    "from sklearn.svm import LinearSVC"
   ]
  },
  {
   "cell_type": "code",
   "execution_count": 3,
   "id": "044a8f37",
   "metadata": {},
   "outputs": [],
   "source": [
    "# Importation of the dataset\n",
    "data = pd.read_csv ('bacteria.csv')"
   ]
  },
  {
   "cell_type": "code",
   "execution_count": 4,
   "id": "27666079",
   "metadata": {},
   "outputs": [
    {
     "data": {
      "text/plain": "   row_id     A0T0G0C10  A0T0G1C9  A0T0G2C8  A0T0G3C7  A0T0G4C6  A0T0G5C5  \\\n0       0 -9.536743e-07 -0.000010 -0.000043 -0.000114 -0.000200 -0.000240   \n1       1 -9.536743e-07 -0.000010 -0.000043  0.000886 -0.000200  0.000760   \n2       2 -9.536743e-07 -0.000002  0.000007  0.000129  0.000268  0.000270   \n3       3  4.632568e-08 -0.000006  0.000012  0.000245  0.000492  0.000522   \n4       4 -9.536743e-07 -0.000010 -0.000043 -0.000114 -0.000200 -0.000240   \n\n   A0T0G6C4  A0T0G7C3  A0T0G8C2  ...  A8T0G1C1  A8T0G2C0  A8T1G0C1  A8T1G1C0  \\\n0 -0.000200 -0.000114 -0.000043  ... -0.000086 -0.000043 -0.000086 -0.000086   \n1 -0.000200 -0.000114 -0.000043  ... -0.000086 -0.000043  0.000914  0.000914   \n2  0.000243  0.000125  0.000001  ...  0.000084  0.000048  0.000081  0.000106   \n3  0.000396  0.000197 -0.000003  ...  0.000151  0.000100  0.000180  0.000202   \n4 -0.000200 -0.000114 -0.000043  ... -0.000086 -0.000043 -0.000086 -0.000086   \n\n   A8T2G0C0  A9T0G0C1  A9T0G1C0  A9T1G0C0     A10T0G0C0  target  \n0 -0.000043 -0.000010 -0.000010 -0.000010 -9.536743e-07       0  \n1 -0.000043 -0.000010 -0.000010 -0.000010 -9.536743e-07       1  \n2  0.000072  0.000010  0.000008  0.000019  1.046326e-06       1  \n3  0.000153  0.000021  0.000015  0.000046 -9.536743e-07       1  \n4 -0.000043 -0.000010 -0.000010 -0.000010 -9.536743e-07       2  \n\n[5 rows x 288 columns]",
      "text/html": "<div>\n<style scoped>\n    .dataframe tbody tr th:only-of-type {\n        vertical-align: middle;\n    }\n\n    .dataframe tbody tr th {\n        vertical-align: top;\n    }\n\n    .dataframe thead th {\n        text-align: right;\n    }\n</style>\n<table border=\"1\" class=\"dataframe\">\n  <thead>\n    <tr style=\"text-align: right;\">\n      <th></th>\n      <th>row_id</th>\n      <th>A0T0G0C10</th>\n      <th>A0T0G1C9</th>\n      <th>A0T0G2C8</th>\n      <th>A0T0G3C7</th>\n      <th>A0T0G4C6</th>\n      <th>A0T0G5C5</th>\n      <th>A0T0G6C4</th>\n      <th>A0T0G7C3</th>\n      <th>A0T0G8C2</th>\n      <th>...</th>\n      <th>A8T0G1C1</th>\n      <th>A8T0G2C0</th>\n      <th>A8T1G0C1</th>\n      <th>A8T1G1C0</th>\n      <th>A8T2G0C0</th>\n      <th>A9T0G0C1</th>\n      <th>A9T0G1C0</th>\n      <th>A9T1G0C0</th>\n      <th>A10T0G0C0</th>\n      <th>target</th>\n    </tr>\n  </thead>\n  <tbody>\n    <tr>\n      <th>0</th>\n      <td>0</td>\n      <td>-9.536743e-07</td>\n      <td>-0.000010</td>\n      <td>-0.000043</td>\n      <td>-0.000114</td>\n      <td>-0.000200</td>\n      <td>-0.000240</td>\n      <td>-0.000200</td>\n      <td>-0.000114</td>\n      <td>-0.000043</td>\n      <td>...</td>\n      <td>-0.000086</td>\n      <td>-0.000043</td>\n      <td>-0.000086</td>\n      <td>-0.000086</td>\n      <td>-0.000043</td>\n      <td>-0.000010</td>\n      <td>-0.000010</td>\n      <td>-0.000010</td>\n      <td>-9.536743e-07</td>\n      <td>0</td>\n    </tr>\n    <tr>\n      <th>1</th>\n      <td>1</td>\n      <td>-9.536743e-07</td>\n      <td>-0.000010</td>\n      <td>-0.000043</td>\n      <td>0.000886</td>\n      <td>-0.000200</td>\n      <td>0.000760</td>\n      <td>-0.000200</td>\n      <td>-0.000114</td>\n      <td>-0.000043</td>\n      <td>...</td>\n      <td>-0.000086</td>\n      <td>-0.000043</td>\n      <td>0.000914</td>\n      <td>0.000914</td>\n      <td>-0.000043</td>\n      <td>-0.000010</td>\n      <td>-0.000010</td>\n      <td>-0.000010</td>\n      <td>-9.536743e-07</td>\n      <td>1</td>\n    </tr>\n    <tr>\n      <th>2</th>\n      <td>2</td>\n      <td>-9.536743e-07</td>\n      <td>-0.000002</td>\n      <td>0.000007</td>\n      <td>0.000129</td>\n      <td>0.000268</td>\n      <td>0.000270</td>\n      <td>0.000243</td>\n      <td>0.000125</td>\n      <td>0.000001</td>\n      <td>...</td>\n      <td>0.000084</td>\n      <td>0.000048</td>\n      <td>0.000081</td>\n      <td>0.000106</td>\n      <td>0.000072</td>\n      <td>0.000010</td>\n      <td>0.000008</td>\n      <td>0.000019</td>\n      <td>1.046326e-06</td>\n      <td>1</td>\n    </tr>\n    <tr>\n      <th>3</th>\n      <td>3</td>\n      <td>4.632568e-08</td>\n      <td>-0.000006</td>\n      <td>0.000012</td>\n      <td>0.000245</td>\n      <td>0.000492</td>\n      <td>0.000522</td>\n      <td>0.000396</td>\n      <td>0.000197</td>\n      <td>-0.000003</td>\n      <td>...</td>\n      <td>0.000151</td>\n      <td>0.000100</td>\n      <td>0.000180</td>\n      <td>0.000202</td>\n      <td>0.000153</td>\n      <td>0.000021</td>\n      <td>0.000015</td>\n      <td>0.000046</td>\n      <td>-9.536743e-07</td>\n      <td>1</td>\n    </tr>\n    <tr>\n      <th>4</th>\n      <td>4</td>\n      <td>-9.536743e-07</td>\n      <td>-0.000010</td>\n      <td>-0.000043</td>\n      <td>-0.000114</td>\n      <td>-0.000200</td>\n      <td>-0.000240</td>\n      <td>-0.000200</td>\n      <td>-0.000114</td>\n      <td>-0.000043</td>\n      <td>...</td>\n      <td>-0.000086</td>\n      <td>-0.000043</td>\n      <td>-0.000086</td>\n      <td>-0.000086</td>\n      <td>-0.000043</td>\n      <td>-0.000010</td>\n      <td>-0.000010</td>\n      <td>-0.000010</td>\n      <td>-9.536743e-07</td>\n      <td>2</td>\n    </tr>\n  </tbody>\n</table>\n<p>5 rows × 288 columns</p>\n</div>"
     },
     "execution_count": 4,
     "metadata": {},
     "output_type": "execute_result"
    }
   ],
   "source": [
    "# delete all incomplete data\n",
    "data.dropna(axis=0, inplace=True)\n",
    "\n",
    "# replacement of all bacteria names with numbers\n",
    "data['target'].replace(['Streptococcus_pyogenes',\n",
    "                        'Salmonella_enterica',\n",
    "                        'Enterococcus_hirae',\n",
    "                        'Streptococcus_pneumoniae',\n",
    "                        'Staphylococcus_aureus',\n",
    "                        'Klebsiella_pneumoniae',\n",
    "                        'Bacteroides_fragilis',\n",
    "                        'Escherichia_coli',\n",
    "                        'Campylobacter_jejuni',\n",
    "                        'Escherichia_fergusonii'],\n",
    "                      [0,1,2,3,4,5,6,7,8,9], inplace=True)\n",
    "data.head()"
   ]
  },
  {
   "cell_type": "code",
   "execution_count": 5,
   "id": "3c6f3d13",
   "metadata": {},
   "outputs": [],
   "source": [
    "X = data.drop(['target', 'row_id'], axis=1)\n",
    "y = data['target']"
   ]
  },
  {
   "cell_type": "code",
   "execution_count": 6,
   "id": "24e33a25",
   "metadata": {},
   "outputs": [],
   "source": [
    "# Split dataset into two parts: training set and test set\n",
    "X_train, X_test, y_train, y_test = train_test_split(X, y, test_size=0.20, random_state=42)\n",
    "\n",
    "# Split training set into two parts: training set and validation set\n",
    "X_train, X_val, y_train, y_val = train_test_split(X_train, y_train, test_size=0.20, random_state=42)"
   ]
  },
  {
   "cell_type": "code",
   "execution_count": 7,
   "outputs": [],
   "source": [
    "# Scale X_train, X_val, X_test using Z-score normalization\n",
    "sc = StandardScaler()\n",
    "X_train_scaled = sc.fit_transform(X_train)\n",
    "X_val_scaled = sc.fit_transform(X_val)\n",
    "X_test_scaled = sc.fit_transform(X_test)"
   ],
   "metadata": {
    "collapsed": false
   }
  },
  {
   "cell_type": "code",
   "execution_count": 15,
   "id": "a3787a1a",
   "metadata": {},
   "outputs": [],
   "source": [
    "# Adding the models to be tested\n",
    "models_list = []\n",
    "models_list.append(KNeighborsClassifier(n_neighbors=1, weights='uniform', p=2))\n",
    "models_list.append(DecisionTreeClassifier())\n",
    "models_list.append(RandomForestClassifier())\n",
    "#models_list.append(OneVsRestClassifier(SVC()))\n",
    "models_list.append(MLPClassifier(random_state=42, max_iter=300))\n",
    "models_list.append(MLPClassifier(random_state=42, max_iter=2000))\n",
    "models_list.append(MLPClassifier(random_state=42, max_iter=2000, hidden_layer_sizes=(100,100,100)))"
   ]
  },
  {
   "cell_type": "code",
   "execution_count": 16,
   "id": "84454812",
   "metadata": {},
   "outputs": [],
   "source": [
    "import time\n",
    "\n",
    "score_list_train = []\n",
    "score_list_val = []\n",
    "execution_time = []\n",
    "models_tested = ['KNN', \n",
    "                 'Decision Tree', \n",
    "                 'Random Forest',\n",
    "#                 'SVC'\n",
    "                 'MLP',\n",
    "                 'MLP',\n",
    "                 'MLP'\n",
    "                 ]\n",
    "\n",
    "for model in models_list:\n",
    "    st = time.time()\n",
    "    model.fit(X_train_scaled, y_train)\n",
    "    et = time.time()\n",
    "    elapsed_time = et - st\n",
    "    score_list_train.append(model.score(X_train_scaled, y_train))\n",
    "    score_list_val.append(model.score(X_val_scaled, y_val))\n",
    "    execution_time.append(elapsed_time)\n",
    "    "
   ]
  },
  {
   "cell_type": "code",
   "execution_count": 17,
   "id": "d66afd33",
   "metadata": {},
   "outputs": [],
   "source": [
    "result = pd.DataFrame({'Model':models_tested, 'Train score':score_list_train, \n",
    "                       'Test score':score_list_val, 'Execution Time':execution_time})"
   ]
  },
  {
   "cell_type": "code",
   "execution_count": 18,
   "id": "f7391ab1",
   "metadata": {},
   "outputs": [
    {
     "data": {
      "text/plain": "           Model  Train score  Test score  Execution Time\n0            KNN     1.000000    0.987156        0.031110\n1  Decision Tree     1.000000    0.949875       25.069964\n2  Random Forest     1.000000    0.991437       82.739659\n3            MLP     0.997930    0.985250      109.419274\n4            MLP     0.997930    0.985250      109.812881\n5            MLP     0.997305    0.986281      121.216150",
      "text/html": "<div>\n<style scoped>\n    .dataframe tbody tr th:only-of-type {\n        vertical-align: middle;\n    }\n\n    .dataframe tbody tr th {\n        vertical-align: top;\n    }\n\n    .dataframe thead th {\n        text-align: right;\n    }\n</style>\n<table border=\"1\" class=\"dataframe\">\n  <thead>\n    <tr style=\"text-align: right;\">\n      <th></th>\n      <th>Model</th>\n      <th>Train score</th>\n      <th>Test score</th>\n      <th>Execution Time</th>\n    </tr>\n  </thead>\n  <tbody>\n    <tr>\n      <th>0</th>\n      <td>KNN</td>\n      <td>1.000000</td>\n      <td>0.987156</td>\n      <td>0.031110</td>\n    </tr>\n    <tr>\n      <th>1</th>\n      <td>Decision Tree</td>\n      <td>1.000000</td>\n      <td>0.949875</td>\n      <td>25.069964</td>\n    </tr>\n    <tr>\n      <th>2</th>\n      <td>Random Forest</td>\n      <td>1.000000</td>\n      <td>0.991437</td>\n      <td>82.739659</td>\n    </tr>\n    <tr>\n      <th>3</th>\n      <td>MLP</td>\n      <td>0.997930</td>\n      <td>0.985250</td>\n      <td>109.419274</td>\n    </tr>\n    <tr>\n      <th>4</th>\n      <td>MLP</td>\n      <td>0.997930</td>\n      <td>0.985250</td>\n      <td>109.812881</td>\n    </tr>\n    <tr>\n      <th>5</th>\n      <td>MLP</td>\n      <td>0.997305</td>\n      <td>0.986281</td>\n      <td>121.216150</td>\n    </tr>\n  </tbody>\n</table>\n</div>"
     },
     "execution_count": 18,
     "metadata": {},
     "output_type": "execute_result"
    }
   ],
   "source": [
    "result"
   ]
  },
  {
   "cell_type": "code",
   "execution_count": 16,
   "outputs": [
    {
     "name": "stdout",
     "output_type": "stream",
     "text": [
      "  Model  Train score  Test score  Execution Time  n_neighbors  weights  p\n",
      "0   KKN          1.0     0.82625        0.003181            1  uniform  1\n",
      "  Model  Train score  Test score  Execution Time  n_neighbors  weights  p\n",
      "0   KKN          1.0    0.826250        0.003181            1  uniform  1\n",
      "1   KKN          1.0    0.808125        0.001650            1  uniform  2\n",
      "  Model  Train score  Test score  Execution Time  n_neighbors   weights  p\n",
      "0   KKN          1.0    0.826250        0.003181            1   uniform  1\n",
      "1   KKN          1.0    0.808125        0.001650            1   uniform  2\n",
      "2   KKN          1.0    0.826250        0.001678            1  distance  1\n",
      "  Model  Train score  Test score  Execution Time  n_neighbors   weights  p\n",
      "0   KKN          1.0    0.826250        0.003181            1   uniform  1\n",
      "1   KKN          1.0    0.808125        0.001650            1   uniform  2\n",
      "2   KKN          1.0    0.826250        0.001678            1  distance  1\n",
      "3   KKN          1.0    0.808125        0.001773            1  distance  2\n",
      "  Model  Train score  Test score  Execution Time  n_neighbors   weights  p\n",
      "0   KKN     1.000000    0.826250        0.003181            1   uniform  1\n",
      "1   KKN     1.000000    0.808125        0.001650            1   uniform  2\n",
      "2   KKN     1.000000    0.826250        0.001678            1  distance  1\n",
      "3   KKN     1.000000    0.808125        0.001773            1  distance  2\n",
      "4   KKN     0.914062    0.771250        0.001631            2   uniform  1\n",
      "  Model  Train score  Test score  Execution Time  n_neighbors   weights  p\n",
      "0   KKN     1.000000    0.826250        0.003181            1   uniform  1\n",
      "1   KKN     1.000000    0.808125        0.001650            1   uniform  2\n",
      "2   KKN     1.000000    0.826250        0.001678            1  distance  1\n",
      "3   KKN     1.000000    0.808125        0.001773            1  distance  2\n",
      "4   KKN     0.914062    0.771250        0.001631            2   uniform  1\n",
      "5   KKN     0.925937    0.766250        0.001735            2   uniform  2\n",
      "  Model  Train score  Test score  Execution Time  n_neighbors   weights  p\n",
      "0   KKN     1.000000    0.826250        0.003181            1   uniform  1\n",
      "1   KKN     1.000000    0.808125        0.001650            1   uniform  2\n",
      "2   KKN     1.000000    0.826250        0.001678            1  distance  1\n",
      "3   KKN     1.000000    0.808125        0.001773            1  distance  2\n",
      "4   KKN     0.914062    0.771250        0.001631            2   uniform  1\n",
      "5   KKN     0.925937    0.766250        0.001735            2   uniform  2\n",
      "6   KKN     1.000000    0.826250        0.001641            2  distance  1\n",
      "  Model  Train score  Test score  Execution Time  n_neighbors   weights  p\n",
      "0   KKN     1.000000    0.826250        0.003181            1   uniform  1\n",
      "1   KKN     1.000000    0.808125        0.001650            1   uniform  2\n",
      "2   KKN     1.000000    0.826250        0.001678            1  distance  1\n",
      "3   KKN     1.000000    0.808125        0.001773            1  distance  2\n",
      "4   KKN     0.914062    0.771250        0.001631            2   uniform  1\n",
      "5   KKN     0.925937    0.766250        0.001735            2   uniform  2\n",
      "6   KKN     1.000000    0.826250        0.001641            2  distance  1\n",
      "7   KKN     1.000000    0.808125        0.001849            2  distance  2\n",
      "  Model  Train score  Test score  Execution Time  n_neighbors   weights  p\n",
      "0   KKN     1.000000    0.826250        0.003181            1   uniform  1\n",
      "1   KKN     1.000000    0.808125        0.001650            1   uniform  2\n",
      "2   KKN     1.000000    0.826250        0.001678            1  distance  1\n",
      "3   KKN     1.000000    0.808125        0.001773            1  distance  2\n",
      "4   KKN     0.914062    0.771250        0.001631            2   uniform  1\n",
      "5   KKN     0.925937    0.766250        0.001735            2   uniform  2\n",
      "6   KKN     1.000000    0.826250        0.001641            2  distance  1\n",
      "7   KKN     1.000000    0.808125        0.001849            2  distance  2\n",
      "8   KKN     0.902031    0.778125        0.001740            3   uniform  1\n",
      "  Model  Train score  Test score  Execution Time  n_neighbors   weights  p\n",
      "0   KKN     1.000000    0.826250        0.003181            1   uniform  1\n",
      "1   KKN     1.000000    0.808125        0.001650            1   uniform  2\n",
      "2   KKN     1.000000    0.826250        0.001678            1  distance  1\n",
      "3   KKN     1.000000    0.808125        0.001773            1  distance  2\n",
      "4   KKN     0.914062    0.771250        0.001631            2   uniform  1\n",
      "5   KKN     0.925937    0.766250        0.001735            2   uniform  2\n",
      "6   KKN     1.000000    0.826250        0.001641            2  distance  1\n",
      "7   KKN     1.000000    0.808125        0.001849            2  distance  2\n",
      "8   KKN     0.902031    0.778125        0.001740            3   uniform  1\n",
      "9   KKN     0.908906    0.751250        0.001710            3   uniform  2\n",
      "   Model  Train score  Test score  Execution Time  n_neighbors   weights  p\n",
      "0    KKN     1.000000    0.826250        0.003181            1   uniform  1\n",
      "1    KKN     1.000000    0.808125        0.001650            1   uniform  2\n",
      "2    KKN     1.000000    0.826250        0.001678            1  distance  1\n",
      "3    KKN     1.000000    0.808125        0.001773            1  distance  2\n",
      "4    KKN     0.914062    0.771250        0.001631            2   uniform  1\n",
      "5    KKN     0.925937    0.766250        0.001735            2   uniform  2\n",
      "6    KKN     1.000000    0.826250        0.001641            2  distance  1\n",
      "7    KKN     1.000000    0.808125        0.001849            2  distance  2\n",
      "8    KKN     0.902031    0.778125        0.001740            3   uniform  1\n",
      "9    KKN     0.908906    0.751250        0.001710            3   uniform  2\n",
      "10   KKN     1.000000    0.817500        0.001652            3  distance  1\n",
      "   Model  Train score  Test score  Execution Time  n_neighbors   weights  p\n",
      "0    KKN     1.000000    0.826250        0.003181            1   uniform  1\n",
      "1    KKN     1.000000    0.808125        0.001650            1   uniform  2\n",
      "2    KKN     1.000000    0.826250        0.001678            1  distance  1\n",
      "3    KKN     1.000000    0.808125        0.001773            1  distance  2\n",
      "4    KKN     0.914062    0.771250        0.001631            2   uniform  1\n",
      "5    KKN     0.925937    0.766250        0.001735            2   uniform  2\n",
      "6    KKN     1.000000    0.826250        0.001641            2  distance  1\n",
      "7    KKN     1.000000    0.808125        0.001849            2  distance  2\n",
      "8    KKN     0.902031    0.778125        0.001740            3   uniform  1\n",
      "9    KKN     0.908906    0.751250        0.001710            3   uniform  2\n",
      "10   KKN     1.000000    0.817500        0.001652            3  distance  1\n",
      "11   KKN     1.000000    0.781875        0.001750            3  distance  2\n"
     ]
    }
   ],
   "source": [
    "n_neighbors = [1,2,3]\n",
    "weights = ['uniform', 'distance']\n",
    "p = [1,2]\n",
    "\n",
    "score_list_train_all = []\n",
    "score_list_val_all = []\n",
    "execution_time_all = []\n",
    "n_neighbors_all = []\n",
    "weights_all = []\n",
    "p_all = []\n",
    "\n",
    "for n in n_neighbors:\n",
    "    for w in weights:\n",
    "        for pp in p:\n",
    "            st = time.time()\n",
    "            model = KNeighborsClassifier(n_neighbors=n, weights=w, p=pp)\n",
    "            model.fit(X_train_scaled, y_train)\n",
    "            et = time.time()\n",
    "            elapsed_time = et - st\n",
    "            score_list_train_all.append(model.score(X_train_scaled, y_train))\n",
    "            score_list_val_all.append(model.score(X_val_scaled, y_val))\n",
    "            execution_time_all.append(elapsed_time)\n",
    "            n_neighbors_all.append(n)\n",
    "            weights_all.append(w)\n",
    "            p_all.append(pp)\n",
    "            result_all = pd.DataFrame({'Model':'KKN', 'Train score':score_list_train_all,\n",
    "                                   'Test score':score_list_val_all, 'Execution Time':execution_time_all, 'n_neighbors':n_neighbors_all, 'weights':weights_all, 'p': p_all})\n",
    "            print(result_all)"
   ],
   "metadata": {
    "collapsed": false
   }
  },
  {
   "cell_type": "code",
   "execution_count": 18,
   "outputs": [
    {
     "name": "stdout",
     "output_type": "stream",
     "text": [
      "Meilleur score: 0.84546875\n",
      "Param: {'n_neighbors': 1, 'p': 2, 'weights': 'uniform'}\n"
     ]
    }
   ],
   "source": [
    "#Méthode automatique de recherche de la meilleure combinaison de paramètres afin d'avoir le modèle le plus précis\n",
    "from sklearn.model_selection import GridSearchCV\n",
    "param_grid = {'n_neighbors' : [1,2,3,4,5,6,7],\n",
    "              'weights' : ['uniform', 'distance'],\n",
    "              'p' : [1, 2]\n",
    "              }\n",
    "\n",
    "grid = GridSearchCV(KNeighborsClassifier(), param_grid, cv=5)\n",
    "grid.fit(X_train_scaled, y_train)\n",
    "\n",
    "print(\"Meilleur score:\", grid.best_score_)\n",
    "print(\"Param:\", grid.best_params_)\n",
    "\n"
   ],
   "metadata": {
    "collapsed": false
   }
  },
  {
   "cell_type": "code",
   "execution_count": 19,
   "id": "457defc8",
   "metadata": {},
   "outputs": [],
   "source": [
    "#score_list_train_ovr = []\n",
    "#score_list_val_ovr = []\n",
    "#execution_time_ovr = []\n",
    "\n",
    "#for model in models_list:\n",
    "#    st = time.time()\n",
    "#    ovr = OneVsRestClassifier(model)\n",
    "#    ovr.fit(X_train_scaled, y_train)\n",
    "#    et = time.time()\n",
    "#    elapsed_time = et - st\n",
    "#    score_list_train_ovr.append(ovr.score(X_train_scaled, y_train))\n",
    "#    score_list_val_ovr.append(ovr.score(X_val_scaled, y_val))\n",
    "#    execution_time_ovr.append(elapsed_time)"
   ]
  },
  {
   "cell_type": "code",
   "execution_count": 20,
   "id": "ae0a8167",
   "metadata": {},
   "outputs": [],
   "source": [
    "#score_list_train_ovo = []\n",
    "#score_list_val_ovo = []\n",
    "#execution_time_ovo = []\n",
    "\n",
    "#for model in models_list:\n",
    "#    st = time.time()\n",
    "#    ovo = OneVsOneClassifier(model)\n",
    "#    ovo.fit(X_train_scaled, y_train)\n",
    "#    et = time.time()\n",
    "#    elapsed_time = et - st\n",
    "#    score_list_train_ovo.append(ovo.score(X_train_scaled, y_train))\n",
    "#    score_list_val_ovo.append(ovo.score(X_val_scaled, y_val))\n",
    "#    execution_time_ovo.append(elapsed_time)"
   ]
  },
  {
   "cell_type": "code",
   "execution_count": 22,
   "id": "4fa74254",
   "metadata": {},
   "outputs": [],
   "source": [
    "#result_ovr = pd.DataFrame({'Model':models_tested, 'Train score':score_list_train_ovr,\n",
    "#                           'Test score':score_list_val_ovr, 'Execution Time':execution_time_ovr})\n",
    "#result_ovr"
   ]
  },
  {
   "cell_type": "code",
   "execution_count": 23,
   "id": "7d166c6b",
   "metadata": {},
   "outputs": [],
   "source": [
    "#result_ovo = pd.DataFrame({'Model':models_tested, 'Train score':score_list_train_ovo,\n",
    "#                           'Test score':score_list_val_ovo, 'Execution Time':execution_time_ovo})\n",
    "#result_ovo"
   ]
  },
  {
   "cell_type": "code",
   "execution_count": 15,
   "id": "20831c70",
   "metadata": {},
   "outputs": [
    {
     "name": "stdout",
     "output_type": "stream",
     "text": [
      "0.986525\n",
      "0.986525\n"
     ]
    }
   ],
   "source": [
    "model_f_knn = KNeighborsClassifier(n_neighbors=1, weights='uniform', p=2)\n",
    "model_f_knn.fit(X_train_scaled,y_train)\n",
    "ypredict = model_f_knn.predict(X_test_scaled)\n",
    "\n",
    "print(accuracy_score(y_test.values,ypredict))\n",
    "print(model_f_knn.score(X_test_scaled,y_test))"
   ]
  }
 ],
 "metadata": {
  "kernelspec": {
   "display_name": "Python 3 (ipykernel)",
   "language": "python",
   "name": "python3"
  },
  "language_info": {
   "codemirror_mode": {
    "name": "ipython",
    "version": 3
   },
   "file_extension": ".py",
   "mimetype": "text/x-python",
   "name": "python",
   "nbconvert_exporter": "python",
   "pygments_lexer": "ipython3",
   "version": "3.10.6"
  }
 },
 "nbformat": 4,
 "nbformat_minor": 5
}
